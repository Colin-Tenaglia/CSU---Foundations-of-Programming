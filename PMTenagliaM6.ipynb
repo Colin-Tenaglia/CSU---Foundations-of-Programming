{
  "nbformat": 4,
  "nbformat_minor": 0,
  "metadata": {
    "colab": {
      "provenance": [],
      "authorship_tag": "ABX9TyPkeOAP2C5ZVMnTWkFFoSm3",
      "include_colab_link": true
    },
    "kernelspec": {
      "name": "python3",
      "display_name": "Python 3"
    },
    "language_info": {
      "name": "python"
    }
  },
  "cells": [
    {
      "cell_type": "markdown",
      "metadata": {
        "id": "view-in-github",
        "colab_type": "text"
      },
      "source": [
        "<a href=\"https://colab.research.google.com/github/Colin-Tenaglia/CSU---Foundations-of-Programming/blob/main/PMTenagliaM6.ipynb\" target=\"_parent\"><img src=\"https://colab.research.google.com/assets/colab-badge.svg\" alt=\"Open In Colab\"/></a>"
      ]
    },
    {
      "cell_type": "markdown",
      "source": [
        "##**Pseudo-Code (Part 1)**"
      ],
      "metadata": {
        "id": "DguQ3cb4xrUW"
      }
    },
    {
      "cell_type": "markdown",
      "source": [
        "### **Class: ItemToPurchase**\n",
        "- **Initialize the class with default parameters for name, price, quantity, and description:**\n",
        "  - `name`: Defaults to an empty string.\n",
        "  - `price`: Defaults to 0.\n",
        "  - `quantity`: Defaults to 0.\n",
        "  - `description`: Defaults to an empty string.\n",
        "\n",
        "- **Define the method to represent the class as a string (`__repr__`):**\n",
        "  - **Return a string that includes the item's name, price, quantity, and description formatted neatly.**\n",
        "    - This provides an easy way to see a snap shot of the item's details, which useful for debugging.\n"
      ],
      "metadata": {
        "id": "J0Uwp0kHoxvC"
      }
    },
    {
      "cell_type": "code",
      "source": [
        "class ItemToPurchase:\n",
        "    def __init__(self, name='', price=0, quantity=0, description=''):\n",
        "        self.name = name\n",
        "        self.price = price\n",
        "        self.quantity = quantity\n",
        "        self.description = description\n",
        "\n",
        "    def __repr__(self):\n",
        "        return f\"{self.name} {self.price} {self.quantity} {self.description}\""
      ],
      "metadata": {
        "id": "8yeAapmYoeN-"
      },
      "execution_count": 10,
      "outputs": []
    },
    {
      "cell_type": "markdown",
      "source": [
        "###**Pseudo-Code (Part 2)**"
      ],
      "metadata": {
        "id": "qCowHHKyzBPw"
      }
    },
    {
      "cell_type": "markdown",
      "source": [
        "### **Class: ShoppingCart**\n",
        "- **Initialize the class with default parameters:**\n",
        "  - `customer_name`: Defaults to '**none**'.\n",
        "  - `current_date`: Defaults to '**January 1, 2020**'.\n",
        "  - Initializes an empty list `cart_items` to store the items in the shopping cart.\n",
        "\n",
        "- **Method: add_item(item_to_purchase)**\n",
        "  - **Append** `item_to_purchase` to the `cart_items` list.\n",
        "\n",
        "- **Method: remove_item(item_name)**\n",
        "  - Initialize a flag `found` to `False`.\n",
        "  - **Loop** over each item in `cart_items`:\n",
        "    - If the item's name matches `item_name`:\n",
        "      - **Remove** the item from `cart_items`.\n",
        "      - Set `found` to `True`.\n",
        "      - **Break** out of the loop.\n",
        "  - If `found` is `False` after the loop, **print** \"Item not found in cart. Nothing removed.\"\n",
        "\n",
        "- **Method: modify_item(item_to_purchase)**\n",
        "  - Initialize a flag `found` to `False`.\n",
        "  - **Loop** over each item in `cart_items`:\n",
        "    - If the item's name matches the name of `item_to_purchase`:\n",
        "      - Optionally update the item's description if a new one is provided.\n",
        "      - Optionally update the item's price if a new one is provided.\n",
        "      - Optionally update the item's quantity if a new one is provided.\n",
        "      - Set `found` to `True`.\n",
        "      - **Break** out of the loop.\n",
        "  - If `found` is `False` after the loop, **print** \"Item not found in cart. Nothing modified.\"\n",
        "\n",
        "- **Method: get_num_items_in_cart()**\n",
        "  - **Calculate and return** the sum of the quantities of all items in `cart_items`.\n",
        "\n",
        "- **Method: get_cost_of_cart()**\n",
        "  - **Calculate** the total cost by summing up the product of price and quantity for each item in `cart_items`.\n",
        "  - **Return** the total cost.\n",
        "\n",
        "- **Method: print_total()**\n",
        "  - **Calculate** the total number of items using `get_num_items_in_cart`.\n",
        "  - If the cart is empty:\n",
        "    - **Print** \"SHOPPING CART IS EMPTY.\"\n",
        "  - Else:\n",
        "    - **Print** the customer's name and the current date.\n",
        "    - **Print** the number of items in the cart.\n",
        "    - Initialize `total_cost` to 0.\n",
        "    - **Loop** over each item in `cart_items`:\n",
        "      - Calculate the cost for each item as `item.price * item.quantity`.\n",
        "      - **Print** the item's details including name, quantity, price, and total cost for that item.\n",
        "      - Add the item's cost to `total_cost`.\n",
        "    - **Print** the total cost of the cart.\n",
        "\n",
        "- **Method: print_descriptions()**\n",
        "  - **Print** the customer's name and the current date.\n",
        "  - **Print** \"Item Descriptions.\"\n",
        "  - **Loop** over each item in `cart_items`:\n",
        "    - **Print** the item's name followed by its description.\n"
      ],
      "metadata": {
        "id": "aG87h8zjvNhv"
      }
    },
    {
      "cell_type": "code",
      "source": [
        "class ShoppingCart:\n",
        "    def __init__(self, customer_name='none', current_date='January 1, 2020'):\n",
        "        self.customer_name = customer_name\n",
        "        self.current_date = current_date\n",
        "        self.cart_items = []\n",
        "\n",
        "    def add_item(self, item_to_purchase):\n",
        "        self.cart_items.append(item_to_purchase)\n",
        "\n",
        "    def remove_item(self, item_name):\n",
        "        found = False\n",
        "        for item in self.cart_items:\n",
        "            if item.name == item_name:\n",
        "                self.cart_items.remove(item)\n",
        "                found = True\n",
        "                break\n",
        "        if not found:\n",
        "            print(\"Item not found in cart. Nothing removed.\")\n",
        "\n",
        "    def modify_item(self, item_to_purchase):\n",
        "        found = False\n",
        "        for item in self.cart_items:\n",
        "            if item.name == item_to_purchase.name:\n",
        "                if item_to_purchase.description:\n",
        "                    item.description = item_to_purchase.description\n",
        "                if item_to_purchase.price:\n",
        "                    item.price = item_to_purchase.price\n",
        "                if item_to_purchase.quantity:\n",
        "                    item.quantity = item_to_purchase.quantity\n",
        "                found = True\n",
        "                break\n",
        "        if not found:\n",
        "            print(\"Item not found in cart. Nothing modified.\")\n",
        "\n",
        "    def get_num_items_in_cart(self):\n",
        "        return sum(item.quantity for item in self.cart_items)\n",
        "\n",
        "    def get_cost_of_cart(self):\n",
        "        return sum(item.price * item.quantity for item in self.cart_items)\n",
        "\n",
        "    def print_total(self):\n",
        "        total_items = self.get_num_items_in_cart()\n",
        "        if total_items == 0:\n",
        "            print(\"SHOPPING CART IS EMPTY\")\n",
        "        else:\n",
        "            print(f\"{self.customer_name}'s Shopping Cart - {self.current_date}\")\n",
        "            print(f\"Number of Items: {total_items}\")\n",
        "            total_cost = 0\n",
        "            for item in self.cart_items:\n",
        "                cost = item.price * item.quantity\n",
        "                print(f\"{item.name} {item.quantity} @ ${item.price} = ${cost}\")\n",
        "                total_cost += cost\n",
        "            print(f\"Total: ${total_cost}\")\n",
        "\n",
        "    def print_descriptions(self):\n",
        "        print(f\"{self.customer_name}'s Shopping Cart - {self.current_date}\")\n",
        "        print(\"Item Descriptions\")\n",
        "        for item in self.cart_items:\n",
        "            print(f\"{item.name}: {item.description}\")\n"
      ],
      "metadata": {
        "id": "B-TYqKUXjMKw"
      },
      "execution_count": 11,
      "outputs": []
    },
    {
      "cell_type": "markdown",
      "source": [
        "##**Pseudo-Code (Part 3)**"
      ],
      "metadata": {
        "id": "y7-VEBQZzE_m"
      }
    },
    {
      "cell_type": "markdown",
      "source": [
        "### **Function: print_menu(cart)**\n",
        "- **Display the menu options:**\n",
        "  - 'a' to Add an item to the cart.\n",
        "  - 'r' to Remove an item from the cart.\n",
        "  - 'c' to Change an item's quantity.\n",
        "  - 'i' to Output items' descriptions.\n",
        "  - 'o' to Output the shopping cart.\n",
        "  - 'q' to Quit the menu.\n",
        "- **Continuously process user input:**\n",
        "  - Use a loop to keep asking for user choices until 'q' is selected to quit.\n",
        "  - **Handle choices:**\n",
        "    - If 'a':\n",
        "      - Prompt for the item's name, price, quantity, and description.\n",
        "      - Create a new ItemToPurchase and add it to the cart.\n",
        "    - If 'r':\n",
        "      - Prompt for the item's name and remove it from the cart if found.\n",
        "    - If 'c':\n",
        "      - Prompt for the item's name and new details (price, quantity, description).\n",
        "      - Update the existing item in the cart if found.\n",
        "    - If 'i':\n",
        "      - Call the cart's method to print descriptions of all items.\n",
        "    - If 'o':\n",
        "      - Call the cart's method to print the total cost and details of the cart.\n",
        "    - For invalid inputs, print an error message and prompt again.\n",
        "\n",
        "### **Function: main()**\n",
        "- **Entry point for the application:**\n",
        "  - Prompt the user to enter their name and today's date.\n",
        "  - Initialize a new ShoppingCart with the user's name and date.\n",
        "  - Call `print_menu` with the newly created cart to start the interaction.\n",
        "\n",
        "### **Conditional Execution Block**\n",
        "- Ensure the script runs the main function if it is executed as the main program.\n"
      ],
      "metadata": {
        "id": "AZbgI5WmxB4Y"
      }
    },
    {
      "cell_type": "code",
      "source": [
        "def print_menu(cart):\n",
        "    print(\"\"\"MENU\n",
        "a - Add item to cart\n",
        "r - Remove item from cart\n",
        "c - Change item quantity\n",
        "i - Output items' descriptions\n",
        "o - Output shopping cart\n",
        "q - Quit\"\"\")\n",
        "    while True:\n",
        "        print(\"Choose an option:\")\n",
        "        choice = input().strip()\n",
        "        if choice == 'q':\n",
        "            break\n",
        "        elif choice == 'a':\n",
        "            name = input(\"Enter the item name: \")\n",
        "            price = int(input(\"Enter the item price: \"))\n",
        "            quantity = int(input(\"Enter the item quantity: \"))\n",
        "            description = input(\"Enter the item description: \")\n",
        "            cart.add_item(ItemToPurchase(name, price, quantity, description))\n",
        "        elif choice == 'r':\n",
        "            name = input(\"Enter the item name to remove: \")\n",
        "            cart.remove_item(name)\n",
        "        elif choice == 'c':\n",
        "            name = input(\"Enter the item name to modify: \")\n",
        "            price = int(input(\"Enter the new price: \"))\n",
        "            quantity = int(input(\"Enter the new quantity: \"))\n",
        "            description = input(\"Enter the new description: \")\n",
        "            cart.modify_item(ItemToPurchase(name, price, quantity, description))\n",
        "        elif choice == 'i':\n",
        "            cart.print_descriptions()\n",
        "        elif choice == 'o':\n",
        "            cart.print_total()\n",
        "        else:\n",
        "            print(\"Invalid option, please try again.\")\n",
        "\n",
        "def main():\n",
        "    customer_name = input(\"Enter customer's name: \")\n",
        "    current_date = input(\"Enter today's date: \")\n",
        "    cart = ShoppingCart(customer_name, current_date)\n",
        "    print_menu(cart)\n",
        "\n",
        "if __name__ == \"__main__\":\n",
        "    main()"
      ],
      "metadata": {
        "colab": {
          "base_uri": "https://localhost:8080/"
        },
        "id": "RymYctLsml0i",
        "outputId": "1a1aad6b-a6fe-4b35-f72b-5c1497bb959a"
      },
      "execution_count": 13,
      "outputs": [
        {
          "name": "stdout",
          "output_type": "stream",
          "text": [
            "Enter customer's name: John Doe\n",
            "Enter today's date: February 1, 2020\n",
            "MENU\n",
            "a - Add item to cart\n",
            "r - Remove item from cart\n",
            "c - Change item quantity\n",
            "i - Output items' descriptions\n",
            "o - Output shopping cart\n",
            "q - Quit\n",
            "Choose an option:\n",
            "a\n",
            "Enter the item name: Nike Romaleos\n",
            "Enter the item price: 189\n",
            "Enter the item quantity: 2\n",
            "Enter the item description: Volt color, Weightlifting shoes\n",
            "Choose an option:\n",
            "a\n",
            "Enter the item name: Chocolate Chips\n",
            "Enter the item price: 3\n",
            "Enter the item quantity: 5\n",
            "Enter the item description: Semi-sweet\n",
            "Choose an option:\n",
            "a\n",
            "Enter the item name: Powerbeats 2 Headphones\n",
            "Enter the item price: 128\n",
            "Enter the item quantity: 1\n",
            "Enter the item description: Bluetooth headphones\n",
            "Choose an option:\n",
            "i\n",
            "John Doe's Shopping Cart - February 1, 2020\n",
            "Item Descriptions\n",
            "Nike Romaleos: Volt color, Weightlifting shoes\n",
            "Chocolate Chips: Semi-sweet\n",
            "Powerbeats 2 Headphones: Bluetooth headphones\n",
            "Choose an option:\n",
            "o\n",
            "John Doe's Shopping Cart - February 1, 2020\n",
            "Number of Items: 8\n",
            "Nike Romaleos 2 @ $189 = $378\n",
            "Chocolate Chips 5 @ $3 = $15\n",
            "Powerbeats 2 Headphones 1 @ $128 = $128\n",
            "Total: $521\n",
            "Choose an option:\n",
            "c\n",
            "Enter the item name to modify: Nike Romaleos\n",
            "Enter the new price: 185\n",
            "Enter the new quantity: 1\n",
            "Enter the new description: Volt color, Weightlifting shoes\n",
            "Choose an option:\n",
            "o\n",
            "John Doe's Shopping Cart - February 1, 2020\n",
            "Number of Items: 7\n",
            "Nike Romaleos 1 @ $185 = $185\n",
            "Chocolate Chips 5 @ $3 = $15\n",
            "Powerbeats 2 Headphones 1 @ $128 = $128\n",
            "Total: $328\n",
            "Choose an option:\n",
            "r\n",
            "Enter the item name to remove: Nike Romaleos\n",
            "Choose an option:\n",
            "o\n",
            "John Doe's Shopping Cart - February 1, 2020\n",
            "Number of Items: 6\n",
            "Chocolate Chips 5 @ $3 = $15\n",
            "Powerbeats 2 Headphones 1 @ $128 = $128\n",
            "Total: $143\n",
            "Choose an option:\n",
            "q\n"
          ]
        }
      ]
    }
  ]
}