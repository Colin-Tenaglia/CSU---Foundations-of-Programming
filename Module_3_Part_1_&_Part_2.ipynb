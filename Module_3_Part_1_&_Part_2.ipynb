{
  "nbformat": 4,
  "nbformat_minor": 0,
  "metadata": {
    "colab": {
      "provenance": []
    },
    "kernelspec": {
      "name": "python3",
      "display_name": "Python 3"
    },
    "language_info": {
      "name": "python"
    }
  },
  "cells": [
    {
      "cell_type": "markdown",
      "source": [
        "##**Part 1 - Pseudocode**"
      ],
      "metadata": {
        "id": "MShAdYduRKG4"
      }
    },
    {
      "cell_type": "markdown",
      "source": [
        "###START\n",
        "\n",
        "  - PROMPT user to \"Please enter the charge for the food\" and store their input in food_charge\n",
        "  - CALCULATE tip_amount as food_charge (user input) multiplied by 0.18\n",
        "  - CALCULATE sales_tax as food_charge (user input) multiplied by 0.07\n",
        "  - CALCULATE total_price as the sum of food_charge, tip_amount, and sales_tax\n",
        "  - DISPLAY \"Food Charge: \", food_charge\n",
        "  - DISPLAY \"Tip (18%): \", tip_amount\n",
        "  - DISPLAY \"Sales Tax (7%): \", sales_tax\n",
        "  - DISPLAY \"Total Price: \", total_price\n",
        "\n",
        "###END"
      ],
      "metadata": {
        "id": "6PM_MyhCOj30"
      }
    },
    {
      "cell_type": "markdown",
      "source": [
        "##**Part 1 - Code**"
      ],
      "metadata": {
        "id": "H5H-g-bnRYKR"
      }
    },
    {
      "cell_type": "code",
      "execution_count": 4,
      "metadata": {
        "colab": {
          "base_uri": "https://localhost:8080/"
        },
        "id": "AZEc8HGSOUYm",
        "outputId": "1600e497-2f41-4b62-d845-cb5a6a3987aa"
      },
      "outputs": [
        {
          "output_type": "stream",
          "name": "stdout",
          "text": [
            "Please enter the charge for the food: $20\n",
            "\n",
            "Food Charge: $20.00\n",
            "Tip (18%): $3.60\n",
            "Sales Tax (7%): $1.40\n",
            "Total Price: $25.00\n"
          ]
        }
      ],
      "source": [
        "# Part 1: Meal Purchase Calculation Code\n",
        "\n",
        "# Ask the user to enter the charge for the food\n",
        "food_charge = float(input(\"Please enter the charge for the food: $\"))\n",
        "\n",
        "# Calculate the tip and tax\n",
        "tip_amount = food_charge * 0.18\n",
        "sales_tax = food_charge * 0.07\n",
        "\n",
        "# Calculate the total price\n",
        "total_price = food_charge + tip_amount + sales_tax\n",
        "20\n",
        "# Display the amounts\n",
        "print(f\"\\nFood Charge: ${food_charge:.2f}\")\n",
        "print(f\"Tip (18%): ${tip_amount:.2f}\")\n",
        "print(f\"Sales Tax (7%): ${sales_tax:.2f}\")\n",
        "print(f\"Total Price: ${total_price:.2f}\")"
      ]
    },
    {
      "cell_type": "markdown",
      "source": [
        "##**Part 2 - Pseudocode**"
      ],
      "metadata": {
        "id": "dr-ozvr9S1hj"
      }
    },
    {
      "cell_type": "markdown",
      "source": [
        "###START\n",
        "  - PROMPT user for current time \"What is the current time (in hours, 24-hour format)?\" and store in current_time\n",
        "  - PROMPT user for hours to wait \"How many hours should the alarm wait?\" and store in hours_to_wait\n",
        "  - CALCULATE alarm_time as (current_time + hours_to_wait) - future time alarm will go off in 24 hr\n",
        "  - DISPLAY \"The alarm will go off at \", alarm_time, \":00.\"\n",
        "\n",
        "###END"
      ],
      "metadata": {
        "id": "9yeF3SsvPWW7"
      }
    },
    {
      "cell_type": "markdown",
      "source": [
        "##**Part 2 - Code**"
      ],
      "metadata": {
        "id": "LnbTOhXjS4-2"
      }
    },
    {
      "cell_type": "code",
      "source": [
        "# Part 2: 24-Hour Clock Alarm\n",
        "\n",
        "# Ask the user for the current time and hours to wait for the alarm\n",
        "current_time = int(input(\"What is the current time (in hours, 24-hour format)? \"))\n",
        "hours_to_wait = int(input(\"How many hours should the alarm wait? \"))\n",
        "\n",
        "# Calculate the alarm time\n",
        "alarm_time = (current_time + hours_to_wait) % 24\n",
        "\n",
        "# Display the result\n",
        "print(f\"The alarm will go off at {alarm_time}:00.\")"
      ],
      "metadata": {
        "colab": {
          "base_uri": "https://localhost:8080/"
        },
        "id": "GGMm9ZWYOXRF",
        "outputId": "5b0decbe-759d-41e0-f61a-fb5038e4805c"
      },
      "execution_count": 5,
      "outputs": [
        {
          "output_type": "stream",
          "name": "stdout",
          "text": [
            "What is the current time (in hours, 24-hour format)? 13\n",
            "How many hours should the alarm wait? 50\n",
            "The alarm will go off at 15:00.\n"
          ]
        }
      ]
    }
  ]
}